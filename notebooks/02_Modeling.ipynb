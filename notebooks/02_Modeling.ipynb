{
 "cells": [
  {
   "cell_type": "markdown",
   "id": "98284cff-b519-401f-bfe7-fbee0946934a",
   "metadata": {},
   "source": [
    "# Notebook for Modeling Beat Data Using an Autoencoder "
   ]
  },
  {
   "cell_type": "markdown",
   "id": "60bfa2b9-e1e4-42b2-b999-695c3421d5f1",
   "metadata": {},
   "source": [
    "## Setup"
   ]
  },
  {
   "cell_type": "code",
   "execution_count": null,
   "id": "d12d9a19-dfd9-4de4-8d7a-2918d299413a",
   "metadata": {},
   "outputs": [],
   "source": [
    "import os\n",
    "import numpy as np\n",
    "import pandas as pd\n",
    "import subprocess\n",
    "import matplotlib.pyplot as plt\n",
    "import seaborn as sns\n",
    "from sklearn.metrics import roc_auc_score, precision_recall_curve, auc, f1_score\n",
    "from scripts.utils import get_project_path\n"
   ]
  }
 ],
 "metadata": {
  "kernelspec": {
   "display_name": "Python 3 (ipykernel)",
   "language": "python",
   "name": "python3"
  },
  "language_info": {
   "codemirror_mode": {
    "name": "ipython",
    "version": 3
   },
   "file_extension": ".py",
   "mimetype": "text/x-python",
   "name": "python",
   "nbconvert_exporter": "python",
   "pygments_lexer": "ipython3",
   "version": "3.9.21"
  }
 },
 "nbformat": 4,
 "nbformat_minor": 5
}
