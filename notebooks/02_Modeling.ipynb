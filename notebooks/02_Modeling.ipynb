{
 "cells": [
  {
   "cell_type": "markdown",
   "id": "98284cff-b519-401f-bfe7-fbee0946934a",
   "metadata": {},
   "source": [
    "# Notebook for Modeling Beat Data Using an Autoencoder "
   ]
  },
  {
   "cell_type": "markdown",
   "id": "60bfa2b9-e1e4-42b2-b999-695c3421d5f1",
   "metadata": {},
   "source": [
    "## Setup"
   ]
  },
  {
   "cell_type": "code",
   "execution_count": 1,
   "id": "d12d9a19-dfd9-4de4-8d7a-2918d299413a",
   "metadata": {},
   "outputs": [],
   "source": [
    "%load_ext autoreload\n",
    "%autoreload 2\n",
    "    \n",
    "import os\n",
    "import numpy as np\n",
    "import pandas as pd\n",
    "import subprocess\n",
    "import matplotlib.pyplot as plt\n",
    "import seaborn as sns\n",
    "from sklearn.metrics import roc_auc_score, precision_recall_curve, auc, f1_score\n",
    "import sys\n",
    "sys.path.append(\"../\")\n",
    "from scripts.utils import get_project_path\n"
   ]
  },
  {
   "cell_type": "markdown",
   "id": "0047e22f-714c-407d-b54f-795a135e75ee",
   "metadata": {},
   "source": [
    "## Train Autoencoder via CLI"
   ]
  },
  {
   "cell_type": "code",
   "execution_count": 5,
   "id": "f2372442-b458-47f5-8e3b-9a59709052b4",
   "metadata": {},
   "outputs": [
    {
     "name": "stderr",
     "output_type": "stream",
     "text": [
      "2025-04-15 12:03:39.545507: W tensorflow/stream_executor/platform/default/dso_loader.cc:64] Could not load dynamic library 'cudart64_110.dll'; dlerror: cudart64_110.dll not found\n",
      "2025-04-15 12:03:39.546036: I tensorflow/stream_executor/cuda/cudart_stub.cc:29] Ignore above cudart dlerror if you do not have a GPU set up on your machine.\n",
      "Traceback (most recent call last):\n",
      "  File \"C:\\Users\\vscerra\\Desktop\\DataScienceProjects\\mitbih_arrhythmia_project\\scripts\\train_autoencoder.py\", line 8, in <module>\n",
      "    from tf.keras.models import Model\n",
      "ModuleNotFoundError: No module named 'tf'\n"
     ]
    }
   ],
   "source": [
    "output_dir = get_project_path(\"models\",\"autoencoder\")\n",
    "os.makedirs(output_dir, exist_ok = True)\n",
    "\n",
    "train_script = get_project_path(\"scripts\", \"train_autoencoder.py\")\n",
    "segments_path = get_project_path(\"data\", \"processed\", \"beat_segments.npy\")\n",
    "labels_path = get_project_path(\"data\", \"processed\", \"beats_dataset.csv\")\n",
    "\n",
    "!python {train_script} \\\n",
    "    -- segments-path {segments_path} \\\n",
    "    -- labels-path {labels_path} \\\n",
    "    -- output-dir {output_dir}"
   ]
  },
  {
   "cell_type": "code",
   "execution_count": null,
   "id": "8034d2a5-f64e-4ced-95f7-81c20b4c77d7",
   "metadata": {},
   "outputs": [],
   "source": []
  }
 ],
 "metadata": {
  "kernelspec": {
   "display_name": "Python 3 (ipykernel)",
   "language": "python",
   "name": "python3"
  },
  "language_info": {
   "codemirror_mode": {
    "name": "ipython",
    "version": 3
   },
   "file_extension": ".py",
   "mimetype": "text/x-python",
   "name": "python",
   "nbconvert_exporter": "python",
   "pygments_lexer": "ipython3",
   "version": "3.9.21"
  }
 },
 "nbformat": 4,
 "nbformat_minor": 5
}
