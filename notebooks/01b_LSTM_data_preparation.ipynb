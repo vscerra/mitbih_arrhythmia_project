{
 "cells": [
  {
   "cell_type": "markdown",
   "id": "96b6a245-20c9-4778-93a4-7fb7ffa92a7d",
   "metadata": {},
   "source": [
    "# Notebook for Preparing Data for LSTM Model\n",
    "\n",
    "This notebook prepares beat-level time-series sequences for use in an LSTM model. It loads the processed single-beat segments and creates beat sequences grouped and ordered by record. "
   ]
  },
  {
   "cell_type": "markdown",
   "id": "4092d936-f705-4c52-a518-557b8846402f",
   "metadata": {},
   "source": [
    "## Setup"
   ]
  },
  {
   "cell_type": "code",
   "execution_count": 1,
   "id": "a2168cb2-3994-4aaf-88c3-be43e1764fa1",
   "metadata": {},
   "outputs": [],
   "source": [
    "%load_ext autoreload\n",
    "%autoreload 2\n",
    "\n",
    "import os\n",
    "import numpy as np\n",
    "import pandas as pd\n",
    "import sys\n",
    "sys.path.append(\"../\")\n",
    "from scripts.utils import get_project_path\n",
    "from scripts.extract import build_beat_sequences"
   ]
  },
  {
   "cell_type": "markdown",
   "id": "5230ce44-27dd-48bd-80fb-c179de3ab6a1",
   "metadata": {},
   "source": [
    "## Load Processed Data"
   ]
  },
  {
   "cell_type": "code",
   "execution_count": 2,
   "id": "ddaf0ac0-93f3-4e90-b24a-34f309054900",
   "metadata": {},
   "outputs": [],
   "source": [
    "segments = np.load(get_project_path(\"data\", \"processed\", \"beat_segments.npy\"))\n",
    "labels_df = pd.read_csv(get_project_path(\"data\", \"processed\", \"beats_dataset.csv\"))"
   ]
  },
  {
   "cell_type": "code",
   "execution_count": 3,
   "id": "7f6dda5b-7d9a-4407-912a-a4eef4064e55",
   "metadata": {},
   "outputs": [
    {
     "data": {
      "text/html": [
       "<div>\n",
       "<style scoped>\n",
       "    .dataframe tbody tr th:only-of-type {\n",
       "        vertical-align: middle;\n",
       "    }\n",
       "\n",
       "    .dataframe tbody tr th {\n",
       "        vertical-align: top;\n",
       "    }\n",
       "\n",
       "    .dataframe thead th {\n",
       "        text-align: right;\n",
       "    }\n",
       "</style>\n",
       "<table border=\"1\" class=\"dataframe\">\n",
       "  <thead>\n",
       "    <tr style=\"text-align: right;\">\n",
       "      <th></th>\n",
       "      <th>record</th>\n",
       "      <th>label</th>\n",
       "      <th>rr_interval</th>\n",
       "      <th>sample_index</th>\n",
       "    </tr>\n",
       "  </thead>\n",
       "  <tbody>\n",
       "    <tr>\n",
       "      <th>0</th>\n",
       "      <td>100</td>\n",
       "      <td>N</td>\n",
       "      <td>0.163889</td>\n",
       "      <td>77</td>\n",
       "    </tr>\n",
       "    <tr>\n",
       "      <th>1</th>\n",
       "      <td>100</td>\n",
       "      <td>N</td>\n",
       "      <td>0.813889</td>\n",
       "      <td>370</td>\n",
       "    </tr>\n",
       "    <tr>\n",
       "      <th>2</th>\n",
       "      <td>100</td>\n",
       "      <td>N</td>\n",
       "      <td>0.811111</td>\n",
       "      <td>662</td>\n",
       "    </tr>\n",
       "    <tr>\n",
       "      <th>3</th>\n",
       "      <td>100</td>\n",
       "      <td>N</td>\n",
       "      <td>0.788889</td>\n",
       "      <td>946</td>\n",
       "    </tr>\n",
       "    <tr>\n",
       "      <th>4</th>\n",
       "      <td>100</td>\n",
       "      <td>N</td>\n",
       "      <td>0.791667</td>\n",
       "      <td>1231</td>\n",
       "    </tr>\n",
       "  </tbody>\n",
       "</table>\n",
       "</div>"
      ],
      "text/plain": [
       "   record label  rr_interval  sample_index\n",
       "0     100     N     0.163889            77\n",
       "1     100     N     0.813889           370\n",
       "2     100     N     0.811111           662\n",
       "3     100     N     0.788889           946\n",
       "4     100     N     0.791667          1231"
      ]
     },
     "execution_count": 3,
     "metadata": {},
     "output_type": "execute_result"
    }
   ],
   "source": [
    "labels_df.head()"
   ]
  },
  {
   "cell_type": "markdown",
   "id": "39273bab-9c15-4679-b6fe-0ebe0d18aefc",
   "metadata": {},
   "source": [
    "## Ensure Alignment of Labels and Segments"
   ]
  },
  {
   "cell_type": "code",
   "execution_count": 4,
   "id": "ffb05544-ed9c-4829-87d4-5e061ecd9ba3",
   "metadata": {},
   "outputs": [],
   "source": [
    "if len(labels_df) > len(segments):\n",
    "    labels_df = labels_df.iloc[:len(segments)].copy()\n",
    "else:\n",
    "    segments = segments[:len(labels_df)]\n",
    "    labels_df = labels_df.copy()"
   ]
  },
  {
   "cell_type": "code",
   "execution_count": 5,
   "id": "17ad65b1-f364-4c57-a274-695680e035b7",
   "metadata": {},
   "outputs": [
    {
     "name": "stdout",
     "output_type": "stream",
     "text": [
      "length of labels_df: 10734\n",
      "length of segments: 10734\n"
     ]
    }
   ],
   "source": [
    "print(f\"length of labels_df: {len(labels_df)}\")\n",
    "print(f\"length of segments: {len(segments)}\")"
   ]
  },
  {
   "cell_type": "markdown",
   "id": "0777bbfa-0cb5-47d0-b264-22f0ba04812c",
   "metadata": {},
   "source": [
    "## Construct Sequences"
   ]
  },
  {
   "cell_type": "code",
   "execution_count": 6,
   "id": "bc82e665-28cb-47db-ab85-2350be5994e4",
   "metadata": {},
   "outputs": [
    {
     "name": "stdout",
     "output_type": "stream",
     "text": [
      "Sequence Shape: (160, 5, 432)\n",
      "Label Shape: (160,)\n",
      "Example Labels: (array(['A', 'N'], dtype='<U1'), array([ 13, 147], dtype=int64))\n"
     ]
    }
   ],
   "source": [
    "X_seq, y_seq = build_beat_sequences(\n",
    "    segments = segments,\n",
    "    labels_df = labels_df,\n",
    "    sequence_length = 5\n",
    ")\n",
    "\n",
    "print(\"Sequence Shape:\", X_seq.shape)\n",
    "print(\"Label Shape:\", y_seq.shape)\n",
    "print(\"Example Labels:\", np.unique(y_seq, return_counts = True))"
   ]
  },
  {
   "cell_type": "markdown",
   "id": "fba48833-20ed-499b-b4f2-aa7674a66fd8",
   "metadata": {},
   "source": [
    "## Save Sequences for LSTM"
   ]
  },
  {
   "cell_type": "code",
   "execution_count": 7,
   "id": "8ae023a7-d8c3-4c75-a70a-3becee682cb0",
   "metadata": {},
   "outputs": [
    {
     "name": "stdout",
     "output_type": "stream",
     "text": [
      "LSTM-ready sequences saved\n"
     ]
    }
   ],
   "source": [
    "save_path = get_project_path(\"data\", \"processed\")\n",
    "np.save(os.path.join(save_path, \"LSTM_X_sequences.npy\"), X_seq)\n",
    "np.save(os.path.join(save_path, \"LSTM_y_labels.npy\"), y_seq)\n",
    "print(\"LSTM-ready sequences saved\")"
   ]
  }
 ],
 "metadata": {
  "kernelspec": {
   "display_name": "Python 3 (ipykernel)",
   "language": "python",
   "name": "python3"
  },
  "language_info": {
   "codemirror_mode": {
    "name": "ipython",
    "version": 3
   },
   "file_extension": ".py",
   "mimetype": "text/x-python",
   "name": "python",
   "nbconvert_exporter": "python",
   "pygments_lexer": "ipython3",
   "version": "3.9.18"
  }
 },
 "nbformat": 4,
 "nbformat_minor": 5
}
